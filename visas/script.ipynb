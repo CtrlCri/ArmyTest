{
 "cells": [
  {
   "cell_type": "code",
   "execution_count": 1,
   "metadata": {},
   "outputs": [],
   "source": [
    "import pandas as pd"
   ]
  },
  {
   "cell_type": "code",
   "execution_count": 2,
   "metadata": {},
   "outputs": [
    {
     "name": "stdout",
     "output_type": "stream",
     "text": [
      "     ID SolicitudFecha RecepcionFecha RevisionFecha DecisionFecha TipoVisa  \\\n",
      "0     1     2023-01-01     2023-01-05    2023-01-10    2023-01-15  Turismo   \n",
      "1     2     2023-01-02     2023-01-06    2023-01-11    2023-01-16  Trabajo   \n",
      "2     3     2023-01-03     2023-01-07    2023-01-12    2023-01-17  Turismo   \n",
      "3     4     2023-01-04     2023-01-08    2023-01-13    2023-01-18  Estudio   \n",
      "4     5     2023-01-05     2023-01-09    2023-01-14    2023-01-19  Turismo   \n",
      "..  ...            ...            ...           ...           ...      ...   \n",
      "95   96     2023-04-06     2023-04-10    2023-04-15    2023-04-20  Trabajo   \n",
      "96   97     2023-04-07     2023-04-11    2023-04-16    2023-04-21  Turismo   \n",
      "97   98     2023-04-08     2023-04-12    2023-04-17    2023-04-22  Trabajo   \n",
      "98   99     2023-04-09     2023-04-13    2023-04-18    2023-04-23  Turismo   \n",
      "99  100     2023-04-10     2023-04-14    2023-04-19    2023-04-24  Estudio   \n",
      "\n",
      "   DepartamentoOtro DeptoGeneradorCuelloBotella  \n",
      "0                No                      Depto1  \n",
      "1                Sí                      Depto2  \n",
      "2                No                      Depto1  \n",
      "3                Sí                      Depto3  \n",
      "4                No                      Depto1  \n",
      "..              ...                         ...  \n",
      "95               No                      Depto2  \n",
      "96               Sí                      Depto1  \n",
      "97               No                      Depto2  \n",
      "98               No                      Depto1  \n",
      "99               Sí                      Depto3  \n",
      "\n",
      "[100 rows x 8 columns]\n"
     ]
    }
   ],
   "source": [
    "visas = pd.read_csv('visas.csv')\n",
    "\n",
    "print(visas)"
   ]
  }
 ],
 "metadata": {
  "kernelspec": {
   "display_name": "venv",
   "language": "python",
   "name": "python3"
  },
  "language_info": {
   "codemirror_mode": {
    "name": "ipython",
    "version": 3
   },
   "file_extension": ".py",
   "mimetype": "text/x-python",
   "name": "python",
   "nbconvert_exporter": "python",
   "pygments_lexer": "ipython3",
   "version": "3.11.4"
  },
  "orig_nbformat": 4
 },
 "nbformat": 4,
 "nbformat_minor": 2
}
